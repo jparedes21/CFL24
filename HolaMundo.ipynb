{
  "nbformat": 4,
  "nbformat_minor": 0,
  "metadata": {
    "colab": {
      "provenance": [],
      "authorship_tag": "ABX9TyNlX5lY4BLTVP2LHMNPF0M1",
      "include_colab_link": true
    },
    "kernelspec": {
      "name": "python3",
      "display_name": "Python 3"
    },
    "language_info": {
      "name": "python"
    }
  },
  "cells": [
    {
      "cell_type": "markdown",
      "metadata": {
        "id": "view-in-github",
        "colab_type": "text"
      },
      "source": [
        "<a href=\"https://colab.research.google.com/github/jparedes21/CFL24/blob/main/HolaMundo.ipynb\" target=\"_parent\"><img src=\"https://colab.research.google.com/assets/colab-badge.svg\" alt=\"Open In Colab\"/></a>"
      ]
    },
    {
      "cell_type": "code",
      "execution_count": 5,
      "metadata": {
        "colab": {
          "base_uri": "https://localhost:8080/"
        },
        "id": "m7oN9gXrxAhb",
        "outputId": "6b68415e-c7ea-4e24-b434-1ee4a6fbac25"
      },
      "outputs": [
        {
          "output_type": "stream",
          "name": "stdout",
          "text": [
            "Hola Mundo\n"
          ]
        }
      ],
      "source": [
        "print (\"Hola Mundo\")"
      ]
    },
    {
      "cell_type": "code",
      "source": [
        "nombre: str\n",
        "nombre = input(\"Ingrese su nombre:\")\n",
        "print (\"HOLA\",nombre,\"este es mi primer programa\")"
      ],
      "metadata": {
        "colab": {
          "base_uri": "https://localhost:8080/"
        },
        "id": "G4m7r5snznA4",
        "outputId": "f0b4374c-753d-45d1-868e-a137c3a38d27"
      },
      "execution_count": 6,
      "outputs": [
        {
          "output_type": "stream",
          "name": "stdout",
          "text": [
            "Ingrese su nombre:Pedro\n",
            "HOLA Pedro este es mi primer programa\n"
          ]
        }
      ]
    }
  ]
}